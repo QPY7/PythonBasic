{
 "cells": [
  {
   "cell_type": "code",
   "execution_count": 14,
   "metadata": {
    "collapsed": true
   },
   "outputs": [],
   "source": [
    "from datetime import *"
   ]
  },
  {
   "cell_type": "markdown",
   "metadata": {},
   "source": [
    "### 生成时间 ____datetime.date表示日期  datetime.datetime 表示日期时间"
   ]
  },
  {
   "cell_type": "markdown",
   "metadata": {},
   "source": [
    "#### 生成指定时间时间 年月日"
   ]
  },
  {
   "cell_type": "code",
   "execution_count": 15,
   "metadata": {},
   "outputs": [
    {
     "name": "stdout",
     "output_type": "stream",
     "text": [
      "2016-11-03\n",
      "<type 'datetime.date'>\n"
     ]
    }
   ],
   "source": [
    "OLD =date(2016,11,03)\n",
    "print OLD\n",
    "print type(OLD)"
   ]
  },
  {
   "cell_type": "markdown",
   "metadata": {},
   "source": [
    "#### 获取当前日期 年月日"
   ]
  },
  {
   "cell_type": "code",
   "execution_count": 26,
   "metadata": {},
   "outputs": [
    {
     "name": "stdout",
     "output_type": "stream",
     "text": [
      "2017-08-13\n",
      "<type 'datetime.date'>\n"
     ]
    }
   ],
   "source": [
    "TODAY = date.today()\n",
    "print TODAY\n",
    "print type(TODAY)"
   ]
  },
  {
   "cell_type": "markdown",
   "metadata": {},
   "source": [
    "#### 生成指定时间，年月日时分秒"
   ]
  },
  {
   "cell_type": "code",
   "execution_count": 27,
   "metadata": {},
   "outputs": [
    {
     "name": "stdout",
     "output_type": "stream",
     "text": [
      "2016-12-23 12:34:23\n",
      "<type 'datetime.datetime'>\n"
     ]
    }
   ],
   "source": [
    "OLDT = datetime(2016,12,23,12,34,23)\n",
    "print OLDT\n",
    "print type(OLDT)"
   ]
  },
  {
   "cell_type": "markdown",
   "metadata": {},
   "source": [
    "#### 获取当前时间 年月日时分秒"
   ]
  },
  {
   "cell_type": "code",
   "execution_count": 29,
   "metadata": {},
   "outputs": [
    {
     "name": "stdout",
     "output_type": "stream",
     "text": [
      "2017-08-13 20:16:51.582000\n",
      "<type 'datetime.datetime'>\n"
     ]
    }
   ],
   "source": [
    "Now = datetime.now()\n",
    "print Now\n",
    "print type(Now)"
   ]
  },
  {
   "cell_type": "markdown",
   "metadata": {},
   "source": [
    "## 将字符串解析为datetime类\n"
   ]
  },
  {
   "cell_type": "code",
   "execution_count": 19,
   "metadata": {},
   "outputs": [
    {
     "name": "stdout",
     "output_type": "stream",
     "text": [
      "2016-02-28 00:00:00\n",
      "<type 'datetime.datetime'>\n",
      "1997-09-02 09:00:00\n",
      "<type 'datetime.datetime'>\n"
     ]
    }
   ],
   "source": [
    "#parse解析字符串，返回datetime\n",
    "t1 = parse('20160228')\n",
    "print t1\n",
    "print type(t1)\n",
    "t2 = parse('199709020900')\n",
    "print t2\n",
    "print type(t2)"
   ]
  },
  {
   "cell_type": "markdown",
   "metadata": {},
   "source": [
    "## 将字符串类型转化为特定的时间格式,返回类型为字符串"
   ]
  },
  {
   "cell_type": "markdown",
   "metadata": {},
   "source": [
    "#### 先解析成datetime，然后格式化，返回字符串"
   ]
  },
  {
   "cell_type": "code",
   "execution_count": 20,
   "metadata": {},
   "outputs": [
    {
     "name": "stdout",
     "output_type": "stream",
     "text": [
      "20160228\n",
      "<type 'str'>\n",
      "2016-02-28\n",
      "<type 'str'>\n"
     ]
    }
   ],
   "source": [
    "t3 = parse('2016-02-28').strftime('%Y%m%d')\n",
    "print t3\n",
    "print type(t3)\n",
    "t4 = parse('20160228123456').strftime('%Y-%m-%d')\n",
    "print t4\n",
    "print type(t4)"
   ]
  },
  {
   "cell_type": "code",
   "execution_count": 21,
   "metadata": {
    "collapsed": true
   },
   "outputs": [],
   "source": [
    "from dateutil.relativedelta import *\n",
    "from dateutil.easter import *\n",
    "from dateutil.parser import *\n",
    "from dateutil.rrule import *"
   ]
  },
  {
   "cell_type": "markdown",
   "metadata": {},
   "source": [
    "## 对日期进行加减计算"
   ]
  },
  {
   "cell_type": "markdown",
   "metadata": {},
   "source": [
    "#### 对月进行计算，并不会改变类型"
   ]
  },
  {
   "cell_type": "code",
   "execution_count": 25,
   "metadata": {},
   "outputs": [
    {
     "name": "stdout",
     "output_type": "stream",
     "text": [
      "2017-09-13 20:12:13.024000\n",
      "<type 'datetime.datetime'>\n",
      "2017-08-13\n",
      "<type 'datetime.date'>\n"
     ]
    }
   ],
   "source": [
    "Now2 = datetime.now() + relativedelta(months =+1)\n",
    "print Now2\n",
    "print type(Now2)\n",
    "TODAY2 = date.today() + relativedelta(months =-2)\n",
    "print TODAY\n",
    "print type(TODAY2)"
   ]
  },
  {
   "cell_type": "code",
   "execution_count": null,
   "metadata": {
    "collapsed": true
   },
   "outputs": [],
   "source": []
  }
 ],
 "metadata": {
  "kernelspec": {
   "display_name": "Python 2",
   "language": "python",
   "name": "python2"
  },
  "language_info": {
   "codemirror_mode": {
    "name": "ipython",
    "version": 2
   },
   "file_extension": ".py",
   "mimetype": "text/x-python",
   "name": "python",
   "nbconvert_exporter": "python",
   "pygments_lexer": "ipython2",
   "version": "2.7.12"
  }
 },
 "nbformat": 4,
 "nbformat_minor": 2
}
