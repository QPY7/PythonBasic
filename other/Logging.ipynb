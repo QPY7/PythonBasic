{
 "cells": [
  {
   "cell_type": "markdown",
   "metadata": {},
   "source": [
    "## 不懂为什么，这个不会输出日志文件"
   ]
  },
  {
   "cell_type": "markdown",
   "metadata": {},
   "source": [
    "### 默认情况下，logging模块将日志打印到屏幕上(stdout)，日志级别为WARNING(即只有日志级别高于WARNING的日志信息才会输出)，日志格式如下图所示\n"
   ]
  },
  {
   "cell_type": "code",
   "execution_count": 2,
   "metadata": {},
   "outputs": [],
   "source": [
    "import logging"
   ]
  },
  {
   "cell_type": "code",
   "execution_count": 4,
   "metadata": {},
   "outputs": [
    {
     "name": "stderr",
     "output_type": "stream",
     "text": [
      "WARNING:root:warn message\n",
      "ERROR:root:error message\n",
      "CRITICAL:root:critical message\n"
     ]
    }
   ],
   "source": [
    "logging.debug('debug message')\n",
    "logging.info('info message')\n",
    "logging.warning('warn message')\n",
    "logging.error('error message')\n",
    "logging.critical('critical message')"
   ]
  },
  {
   "attachments": {
    "a.png": {
     "image/png": "[encoded data removed]"
    }
   },
   "cell_type": "markdown",
   "metadata": {},
   "source": [
    "![a.png](attachment:a.png)"
   ]
  },
  {
   "cell_type": "markdown",
   "metadata": {},
   "source": [
    "\n",
    "| 级别 | 何时使用 |\n",
    "|:-------------:|:-------------:| \n",
    "| DEBUG| 详细信息，典型地调试问题时会感兴趣。|\n",
    "| INFO| 证明事情按预期工作。|\n",
    "| WARNING|表明发生了一些意外，或者不久的将来会发生问题（如‘磁盘满了’）。软件还是在正常工作。|\n",
    "| ERROR|由于更严重的问题，软件已不能执行一些功能了。|\n",
    "| CRITICAL|严重错误，表明软件已不能继续运行了。|\n"
   ]
  },
  {
   "cell_type": "markdown",
   "metadata": {},
   "source": [
    "### 可通过basicConfig来配置"
   ]
  },
  {
   "cell_type": "code",
   "execution_count": 7,
   "metadata": {},
   "outputs": [
    {
     "name": "stderr",
     "output_type": "stream",
     "text": [
      "WARNING:root:warn message\n",
      "ERROR:root:error message\n",
      "CRITICAL:root:critical message\n"
     ]
    }
   ],
   "source": [
    "logging.basicConfig(filename='logger.log', level=logging.INFO)\n",
    "\n",
    "logging.debug('debug message')\n",
    "logging.info('info message')\n",
    "logging.warning('warn message')\n",
    "logging.error('error message')\n",
    "logging.critical('critical message')\n"
   ]
  },
  {
   "cell_type": "markdown",
   "metadata": {},
   "source": [
    "### 几个重要的概念\n",
    "\n",
    "* Logger 记录器，暴露了应用程序代码能直接使用的接口。\n",
    "* Handler 处理器，将（记录器产生的）日志记录发送至合适的目的地。\n",
    "* Filter 过滤器，提供了更好的粒度控制，它可以决定输出哪些日志记录。\n",
    "* Formatter 格式化器，指明了最终输出中日志记录的布局。\n",
    "\n"
   ]
  },
  {
   "cell_type": "markdown",
   "metadata": {},
   "source": [
    "####  记录日志是通过调用Logger 的实例（后面称之为 记录器／loggers）的方法来完成的。 每个实例都有名字，它们在概念上组织成一个层级式的命名空间，使用点（.）作为分隔符。例如，名为‘scan’的Logger是Logger:‘scan.text’、‘scan.html’和‘scan.pdf’的父节点。记录器名字可以任意命名，用以表示记录的信息是在应用的哪个部分所产生的。"
   ]
  },
  {
   "cell_type": "code",
   "execution_count": 9,
   "metadata": {},
   "outputs": [
    {
     "name": "stderr",
     "output_type": "stream",
     "text": [
      "ERROR:root:errorerrorerror\n",
      "WARNING:root:warning\n",
      "test.a      : ERROR    aerror\n",
      "test.a      : ERROR    aerror\n",
      "ERROR:test.a:aerror\n",
      "test.b      : WARNING  bwarninh\n",
      "test.b      : WARNING  bwarninh\n",
      "WARNING:test.b:bwarninh\n"
     ]
    }
   ],
   "source": [
    "logging.basicConfig(level=logging.INFO, format='%(asctime)s %(filename)s[line:%(lineno)d] %(levelname)s %(message)s',\n",
    "                    datefmt='%a, %d %b %Y %H:%M:%S', filename='basic.log', filemode='w')\n",
    "logging.info('infoinfoinfo')\n",
    "logging.error('errorerrorerror')\n",
    "console = logging.StreamHandler()\n",
    "console.setLevel(logging.WARNING)\n",
    "console.setFormatter(logging.Formatter('%(name)-12s: %(levelname)-8s %(message)s'))\n",
    "# test父\n",
    "logger = logging.getLogger('test').addHandler(console)\n",
    "logging.warning('warning')\n",
    "logging.info('infoinfo')\n",
    "# test.a  test.b 子\n",
    "loggera = logging.getLogger('test.a')\n",
    "loggerb = logging.getLogger('test.b')\n",
    "loggera.info('ainfo')\n",
    "loggera.error('aerror')\n",
    "loggerb.warning('bwarninh')\n"
   ]
  }
 ],
 "metadata": {
  "kernelspec": {
   "display_name": "Python 3",
   "language": "python",
   "name": "python3"
  },
  "language_info": {
   "codemirror_mode": {
    "name": "ipython",
    "version": 3
   },
   "file_extension": ".py",
   "mimetype": "text/x-python",
   "name": "python",
   "nbconvert_exporter": "python",
   "pygments_lexer": "ipython3",
   "version": "3.6.3"
  }
 },
 "nbformat": 4,
 "nbformat_minor": 2
}
