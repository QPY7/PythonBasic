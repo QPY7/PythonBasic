{
 "cells": [
  {
   "cell_type": "markdown",
   "metadata": {
    "collapsed": true
   },
   "source": [
    "###  \\_\\_init\\_\\_初始化对象"
   ]
  },
  {
   "cell_type": "code",
   "execution_count": 1,
   "metadata": {},
   "outputs": [
    {
     "name": "stdout",
     "output_type": "stream",
     "text": [
      "weight: 14\n"
     ]
    }
   ],
   "source": [
    "class Apple:\n",
    "    def __init__(self, weight):\n",
    "        self.weight = weight\n",
    "    \n",
    "    def describe(self):\n",
    "        print 'weight:', str(self.weight)\n",
    "\n",
    "\n",
    "ap = Apple(14)\n",
    "ap.describe()"
   ]
  },
  {
   "cell_type": "markdown",
   "metadata": {},
   "source": [
    "### \\_\\_new\\_\\_发生在\\_\\_init\\_\\_ 之前\n",
    "#### 单例模式"
   ]
  },
  {
   "cell_type": "code",
   "execution_count": 2,
   "metadata": {},
   "outputs": [
    {
     "name": "stdout",
     "output_type": "stream",
     "text": [
      "__new__\n",
      "__init\n",
      "__new__\n",
      "__init\n",
      "True\n"
     ]
    }
   ],
   "source": [
    "class Singleton(object):\n",
    "    # 私有变量\n",
    "    __instance = None \n",
    "\n",
    "    def __init__(self):\n",
    "        print '__init'\n",
    "    \n",
    "    def __new__(cls, *args, **kwd):\n",
    "        print '__new__'\n",
    "        if Singleton.__instance is None:\n",
    "            Singleton.__instance = object.__new__(cls, *args, **kwd)\n",
    "        return Singleton.__instance\n",
    "\n",
    "\n",
    "p1 = Singleton()\n",
    "p2 = Singleton()\n",
    "print p1 is p2"
   ]
  },
  {
   "cell_type": "code",
   "execution_count": null,
   "metadata": {
    "collapsed": true
   },
   "outputs": [],
   "source": []
  }
 ],
 "metadata": {
  "kernelspec": {
   "display_name": "Python 2",
   "language": "python",
   "name": "python2"
  },
  "language_info": {
   "codemirror_mode": {
    "name": "ipython",
    "version": 2
   },
   "file_extension": ".py",
   "mimetype": "text/x-python",
   "name": "python",
   "nbconvert_exporter": "python",
   "pygments_lexer": "ipython2",
   "version": "2.7.12"
  }
 },
 "nbformat": 4,
 "nbformat_minor": 2
}
