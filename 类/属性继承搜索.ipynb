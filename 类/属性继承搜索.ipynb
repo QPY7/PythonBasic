{
 "cells": [
  {
   "cell_type": "markdown",
   "metadata": {},
   "source": [
    "### **object.attriute**\n",
    "####  这个表达式会在python中启动搜索——搜索对象连接的树，来寻找attribute首次出现的地方。当类启用时，上边的python表达式实际上等于下列自然语言：\n",
    "#### *找出attribute首次出现的地方，先搜索object，然后是该对象上的所有类，由下至上，由左至右*"
   ]
  },
  {
   "cell_type": "markdown",
   "metadata": {},
   "source": [
    "#### 可以把对象生成的实例也理解成一种继承"
   ]
  },
  {
   "cell_type": "code",
   "execution_count": 1,
   "metadata": {},
   "outputs": [
    {
     "name": "stdout",
     "output_type": "stream",
     "text": [
      "Father1\n",
      "GrandFather1\n"
     ]
    }
   ],
   "source": [
    "class GrandFather1:\n",
    "    def display(self):\n",
    "        print 'GrandFather1'\n",
    "\n",
    "\n",
    "class GrandFather2:\n",
    "    def display(self):\n",
    "        print 'GrandFather2'\n",
    "    \n",
    "\n",
    "class Father1(GrandFather1):\n",
    "    def say(self):\n",
    "        print 'Father1'\n",
    "\n",
    "\n",
    "class Father2(GrandFather2):\n",
    "    def say(self):\n",
    "        print 'Father2'\n",
    "\n",
    "\n",
    "class Child(Father1, Father2):\n",
    "    pass\n",
    "\n",
    "\n",
    "tom = Child()\n",
    "tom.say()\n",
    "tom.display()"
   ]
  },
  {
   "cell_type": "markdown",
   "metadata": {},
   "source": [
    "### 附加在实例上的属性只属于那些实例，但附加在类上的属性则由所有子类及其实例共享"
   ]
  },
  {
   "cell_type": "markdown",
   "metadata": {},
   "source": [
    "### 就像简单变量一样了，类和实例属性并没有事先声明，而是在首次赋值时它的值才会存在"
   ]
  },
  {
   "cell_type": "code",
   "execution_count": 3,
   "metadata": {},
   "outputs": [
    {
     "name": "stdout",
     "output_type": "stream",
     "text": [
      "{'__module__': '__main__', 'getName': <function getName at 0x0000000004BEDBA8>, 'setName': <function setName at 0x0000000004BEDC88>, '__doc__': None}\n",
      "{}\n",
      "{'name': 'abc'}\n",
      "{'__module__': '__main__', 'getName': <function getName at 0x0000000004BEDBA8>, 'setName': <function setName at 0x0000000004BEDC88>, '__doc__': None}\n"
     ]
    }
   ],
   "source": [
    "class C1():\n",
    "    def setName(self, name):\n",
    "        self.name = name\n",
    "        \n",
    "    \n",
    "    def getName(self):\n",
    "        return self.name\n",
    "\n",
    "c = C1()\n",
    "print C1.__dict__\n",
    "print c.__dict__\n",
    "c.setName('abc')\n",
    "print c.__dict__\n",
    "print C1.__dict__"
   ]
  }
 ],
 "metadata": {
  "kernelspec": {
   "display_name": "Python 2",
   "language": "python",
   "name": "python2"
  },
  "language_info": {
   "codemirror_mode": {
    "name": "ipython",
    "version": 2
   },
   "file_extension": ".py",
   "mimetype": "text/x-python",
   "name": "python",
   "nbconvert_exporter": "python",
   "pygments_lexer": "ipython2",
   "version": "2.7.12"
  }
 },
 "nbformat": 4,
 "nbformat_minor": 2
}
