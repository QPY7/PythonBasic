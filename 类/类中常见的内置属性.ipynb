{
 "cells": [
  {
   "cell_type": "markdown",
   "metadata": {},
   "source": [
    "###  \\_\\_dict\\_\\_ 类的属性（包含一个字典，由类的数据属性组成）"
   ]
  },
  {
   "cell_type": "code",
   "execution_count": 25,
   "metadata": {},
   "outputs": [
    {
     "name": "stdout",
     "output_type": "stream",
     "text": [
      "{'color': 'red', 'weight': 5}\n",
      "{'__module__': '__main__', '__doc__': None, 'name': 'apple', '__init__': <function __init__ at 0x0000000005421DD8>, 'eat': <function eat at 0x0000000005421F98>}\n"
     ]
    }
   ],
   "source": [
    "class Apple():\n",
    "    \n",
    "    def __init__(self, color, weight):\n",
    "        # 实例变量\n",
    "        self.color = color \n",
    "        self.weight = weight\n",
    "        \n",
    "    # 类变量\n",
    "    name = 'apple' \n",
    "    \n",
    "    def eat(self):\n",
    "        return  'eat'\n",
    "        \n",
    "\n",
    "ap1 = Apple('red',5)\n",
    "print ap1.__dict__\n",
    "print Apple.__dict__"
   ]
  },
  {
   "cell_type": "code",
   "execution_count": 23,
   "metadata": {},
   "outputs": [
    {
     "name": "stdout",
     "output_type": "stream",
     "text": [
      "{'color': 'green', 'weight': 10}\n",
      "green\n",
      "10\n",
      "eat\n",
      "apple\n",
      "apple\n",
      "eat\n"
     ]
    }
   ],
   "source": [
    "ap2 = Apple('green',10)\n",
    "print ap2.__dict__\n",
    "print ap2.color\n",
    "print ap2.weight\n",
    "print ap2.eat()\n",
    "print ap2.name\n",
    "\n",
    "\n",
    "#清空实例的属性，没有清空方法，类的属性\n",
    "ap2.__dict__ = {}\n",
    "\n",
    "print ap2.name\n",
    "print ap2.eat()\n",
    "\n",
    "#没有color和weight属性\n",
    "#print ap2.color\n",
    "#print ap2.weight\n"
   ]
  },
  {
   "cell_type": "code",
   "execution_count": 26,
   "metadata": {},
   "outputs": [
    {
     "name": "stdout",
     "output_type": "stream",
     "text": [
      "{'__module__': '__main__', '__doc__': None, 'name': 'apple', '__init__': <function __init__ at 0x0000000005421DD8>, 'eat': <function eat at 0x0000000005421F98>}\n",
      "pink\n",
      "15\n",
      "apple\n",
      "eat\n",
      "pink\n",
      "15\n",
      "{}\n"
     ]
    }
   ],
   "source": [
    "ap3 = Apple('pink',15)\n",
    "print Apple.__dict__\n",
    "print ap3.color\n",
    "print ap3.weight\n",
    "print ap3.name\n",
    "print ap3.eat()\n",
    "\n",
    "# 清空了方法，类属性，已有的实例，实例属性保留\n",
    "Apple.__dict__ = {}\n",
    "print ap3.color\n",
    "print ap3.weight\n",
    "\n",
    "# 不存在name属性,eat方法\n",
    "# print ap3.name\n",
    "#print ap3.eat()\n",
    "\n",
    "# 再次创建这个类的时候，__init__已经没有参数了,实例属性也木有了，这个类彻底空了\n",
    "# ap4 = Apple('black',0)\n",
    "#ap4 = Apple()\n",
    "#print ap4.name\n",
    "\n",
    "print Apple.__dict__\n"
   ]
  },
  {
   "cell_type": "markdown",
   "metadata": {},
   "source": [
    "### \\_\\_name\\_\\_ 属于模块属性，后面在看怎么分类"
   ]
  },
  {
   "cell_type": "markdown",
   "metadata": {},
   "source": [
    "#### 引用jupyter notebook解析模块"
   ]
  },
  {
   "cell_type": "code",
   "execution_count": 4,
   "metadata": {},
   "outputs": [],
   "source": [
    "import Ipynb_importer"
   ]
  },
  {
   "cell_type": "markdown",
   "metadata": {},
   "source": [
    "#### 引用其他模块，\\_\\_name\\_\\_属性为模块名称"
   ]
  },
  {
   "cell_type": "code",
   "execution_count": 5,
   "metadata": {},
   "outputs": [
    {
     "name": "stdout",
     "output_type": "stream",
     "text": [
      "demo\n"
     ]
    }
   ],
   "source": [
    "import demo\n",
    "\n",
    "print demo.__name__"
   ]
  },
  {
   "cell_type": "markdown",
   "metadata": {},
   "source": [
    "#### 本模块的\\_\\_name\\_\\_属性为\\_\\_main\\_\\_"
   ]
  },
  {
   "cell_type": "code",
   "execution_count": 6,
   "metadata": {},
   "outputs": [
    {
     "name": "stdout",
     "output_type": "stream",
     "text": [
      "__main__\n"
     ]
    }
   ],
   "source": [
    "print __name__"
   ]
  },
  {
   "cell_type": "markdown",
   "metadata": {},
   "source": [
    "#### 所以可以用 \\_\\_name\\_\\_ == '\\_\\_main\\_\\_'来进行模块内的测试，其他模块并不会调用if下面的代码"
   ]
  },
  {
   "cell_type": "code",
   "execution_count": 7,
   "metadata": {},
   "outputs": [
    {
     "name": "stdout",
     "output_type": "stream",
     "text": [
      "main\n"
     ]
    }
   ],
   "source": [
    "if __name__ == '__main__':\n",
    "    print 'main'"
   ]
  }
 ],
 "metadata": {
  "kernelspec": {
   "display_name": "Python 2",
   "language": "python",
   "name": "python2"
  },
  "language_info": {
   "codemirror_mode": {
    "name": "ipython",
    "version": 2
   },
   "file_extension": ".py",
   "mimetype": "text/x-python",
   "name": "python",
   "nbconvert_exporter": "python",
   "pygments_lexer": "ipython2",
   "version": "2.7.12"
  }
 },
 "nbformat": 4,
 "nbformat_minor": 2
}
